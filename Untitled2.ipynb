{
  "nbformat": 4,
  "nbformat_minor": 0,
  "metadata": {
    "colab": {
      "provenance": []
    },
    "kernelspec": {
      "name": "python3",
      "display_name": "Python 3"
    },
    "language_info": {
      "name": "python"
    }
  },
  "cells": [
    {
      "cell_type": "code",
      "execution_count": 1,
      "metadata": {
        "colab": {
          "base_uri": "https://localhost:8080/"
        },
        "id": "Y2h4pZTgFyMi",
        "outputId": "b18794ed-e1af-41a2-da94-b187710a93d8"
      },
      "outputs": [
        {
          "output_type": "stream",
          "name": "stdout",
          "text": [
            "Digite o primeiro número: 100\n",
            "Digite o segundo número: 56\n",
            "Digite o terceiro número: 37\n",
            "Números em ordem crescente: 37 56 100\n"
          ]
        }
      ],
      "source": [
        "#1 questão\n",
        "num1 = int(input(\"Digite o primeiro número: \"))\n",
        "num2 = int(input(\"Digite o segundo número: \"))\n",
        "num3 = int(input(\"Digite o terceiro número: \"))\n",
        "numeros = [num1, num2, num3]\n",
        "numeros.sort()\n",
        "print(\"Números em ordem crescente:\", numeros[0], numeros[1], numeros[2])"
      ]
    },
    {
      "cell_type": "code",
      "source": [
        "#2 questão\n",
        "for i in range(100):\n",
        "    print(i, end=\", \")"
      ],
      "metadata": {
        "colab": {
          "base_uri": "https://localhost:8080/"
        },
        "id": "R3jxozD0F64b",
        "outputId": "4310b992-caa9-4b19-9ec8-0747306c6cd9"
      },
      "execution_count": 2,
      "outputs": [
        {
          "output_type": "stream",
          "name": "stdout",
          "text": [
            "0, 1, 2, 3, 4, 5, 6, 7, 8, 9, 10, 11, 12, 13, 14, 15, 16, 17, 18, 19, 20, 21, 22, 23, 24, 25, 26, 27, 28, 29, 30, 31, 32, 33, 34, 35, 36, 37, 38, 39, 40, 41, 42, 43, 44, 45, 46, 47, 48, 49, 50, 51, 52, 53, 54, 55, 56, 57, 58, 59, 60, 61, 62, 63, 64, 65, 66, 67, 68, 69, 70, 71, 72, 73, 74, 75, 76, 77, 78, 79, 80, 81, 82, 83, 84, 85, 86, 87, 88, 89, 90, 91, 92, 93, 94, 95, 96, 97, 98, 99, "
          ]
        }
      ]
    },
    {
      "cell_type": "code",
      "source": [
        "#3 questão\n",
        "nome = input(\"convidado, digite seu nome: \")\n",
        "print(f\"seja bem-vindo, {nome}\")"
      ],
      "metadata": {
        "colab": {
          "base_uri": "https://localhost:8080/"
        },
        "id": "bAy7FocUF7Kh",
        "outputId": "5fc46275-7b4d-4cce-85db-85ef5529a05a"
      },
      "execution_count": 3,
      "outputs": [
        {
          "output_type": "stream",
          "name": "stdout",
          "text": [
            "convidado, digite seu nome: Jose Miguel\n",
            "seja bem-vindo, Jose Miguel\n"
          ]
        }
      ]
    },
    {
      "cell_type": "code",
      "source": [
        "#4 questão\n",
        "numero = int(input(\"Digite um número: \"))\n",
        "eh_primo = True\n",
        "if numero <= 1:\n",
        "    eh_primo = False\n",
        "else:\n",
        "    for i in range(2, numero):\n",
        "        if numero % i == 0:\n",
        "            eh_primo = False\n",
        "            break\n",
        "if eh_primo:\n",
        "    print(\"Este número é Primo\")\n",
        "else:\n",
        "    print(\"Este número não é Primo\")"
      ],
      "metadata": {
        "colab": {
          "base_uri": "https://localhost:8080/"
        },
        "id": "0B9h6RPGF7T5",
        "outputId": "b7cde804-336e-48ea-85f7-3aa8defba887"
      },
      "execution_count": 4,
      "outputs": [
        {
          "output_type": "stream",
          "name": "stdout",
          "text": [
            "Digite um número: 1\n",
            "Este número não é Primo\n"
          ]
        }
      ]
    },
    {
      "cell_type": "code",
      "source": [
        "#5 questão\n",
        "n = int(input(\"Fale a quatidade total de notas: \"))\n",
        "notas = []\n",
        "for _ in range(n):\n",
        "    nota = float(input(\"digite as notas: \"))\n",
        "    notas.append(nota)\n",
        "media = sum(notas) / n\n",
        "limite_superior = media * 1.10\n",
        "limite_inferior = media * 0.90\n",
        "acima_10 = 0\n",
        "abaixo_10 = 0\n",
        "for nota in notas:\n",
        "    if nota > limite_superior:\n",
        "        acima_10 += 1\n",
        "    elif nota < limite_inferior:\n",
        "        abaixo_10 += 1\n",
        "print(f\"Média: {media:.2f}\")\n",
        "print(\"n° de notas 10% acima da média:\", acima_10)\n",
        "print(\"n° de notas 10% 1abaixo da média:\", abaixo_10)"
      ],
      "metadata": {
        "colab": {
          "base_uri": "https://localhost:8080/"
        },
        "id": "ko5Ih5w-F7cB",
        "outputId": "028bbe4e-b087-470c-ca76-70e7b11d3c8e"
      },
      "execution_count": 6,
      "outputs": [
        {
          "output_type": "stream",
          "name": "stdout",
          "text": [
            "Fale a quatidade total de notas: 10\n",
            "digite as notas: 7\n",
            "digite as notas: 3\n",
            "digite as notas: 4\n",
            "digite as notas: 6\n",
            "digite as notas: 7\n",
            "digite as notas: 8\n",
            "digite as notas: 6\n",
            "digite as notas: 7\n",
            "digite as notas: 8\n",
            "digite as notas: 9\n",
            "Média: 6.50\n",
            "n° de notas 10% acima da média: 3\n",
            "n° de notas 10% 1abaixo da média: 2\n"
          ]
        }
      ]
    },
    {
      "cell_type": "code",
      "source": [
        "#6 questão\n",
        "texto = input(\"Digite uma palavra ou frase: \")\n",
        "invertido = texto[::-1]\n",
        "print(invertido)"
      ],
      "metadata": {
        "id": "a5dvBiGfF7k4"
      },
      "execution_count": null,
      "outputs": []
    },
    {
      "cell_type": "code",
      "source": [
        "#7 questão\n",
        "texto = input('coloque a palavra ou frase:').strip()\n",
        "caractere_antigo = input('coloque o caractere que deseja trocar: ').strip()\n",
        "caractere_novo = input('coloque o caractere pelo qual deseja trocar: ').strip()\n",
        "texto_modificado = texto.replace(caractere_antigo, caractere_novo)\n",
        "print('texto alterado: ', texto_modificado)"
      ],
      "metadata": {
        "id": "DmpKMa2EF7ty"
      },
      "execution_count": null,
      "outputs": []
    },
    {
      "cell_type": "code",
      "source": [
        "#8 questão\n",
        "texto = input('coloque a palavra parra identificação de índice: ').strip()\n",
        "caractere = input('coloque o caractere que deseja achar o indice: ').strip()\n",
        "indice = texto.find(caractere)\n",
        "print('local do indice: ',indice)"
      ],
      "metadata": {
        "id": "9Y76HwkJF71r"
      },
      "execution_count": null,
      "outputs": []
    },
    {
      "cell_type": "code",
      "source": [
        "#9 questão\n",
        "x = int(input('insira o primeiro valor: '))\n",
        "y = int(input('insira o segundo valor: '))\n",
        "inicio = min(x, y)\n",
        "fim = max(x, y)\n",
        "for i in range(inicio + 1, fim):\n",
        "    if i % 5 == 2 or i % 5 == 3:\n",
        "        print(i, end=\" \")"
      ],
      "metadata": {
        "id": "d16NKKvgF78z"
      },
      "execution_count": null,
      "outputs": []
    },
    {
      "cell_type": "code",
      "source": [
        "#10 questao\n",
        "n = int(input(\"Quantos números você quer digitar? \"))\n",
        "numeros = []\n",
        "for i in range(n):\n",
        "    numero = int(input(f\"Digite o {i+1}º número: \"))\n",
        "    numeros.append(numero)\n",
        "print(\"\\na) Números na ordem inversa:\")\n",
        "for num in reversed(numeros):\n",
        "    print(num)\n",
        "print(\"\\nb) Números em ordem decrescente:\")\n",
        "for num in sorted(numeros, reverse=True):\n",
        "    print(num)\n"
      ],
      "metadata": {
        "id": "6kqJ_QwhF8EE"
      },
      "execution_count": null,
      "outputs": []
    }
  ]
}